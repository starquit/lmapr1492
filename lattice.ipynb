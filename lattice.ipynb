{
 "cells": [
  {
   "cell_type": "code",
   "execution_count": 51,
   "metadata": {},
   "outputs": [
    {
     "name": "stdout",
     "output_type": "stream",
     "text": [
      "3.867929 0.000000 0.000000\n",
      "-1.933964 3.349724 0.000000\n",
      "0.000000 0.000000 5.244862\n",
      "\n",
      "1.624402 0.937849 0.000000\n",
      "0.000000 1.875697 0.000000\n",
      "-0.000000 -0.000000 1.197938\n",
      "hexagonal\n",
      "hexagonal\n",
      "[{'spacegroup': {'symprec': 0.1, 'source': 'spglib', 'symbol': 'P-6m2', 'number': 187, 'point_group': '-6m2', 'crystal_system': 'hexagonal', 'hall': 'P -6 2'}}]\n"
     ]
    }
   ],
   "source": [
    "from pymatgen import Lattice\n",
    "from pymatgen.symmetry.analyzer import SpacegroupAnalyzer \n",
    "from pymatgen.ext.matproj import MPRester\n",
    "from pymatgen.io.cif import CifWriter\n",
    "with MPRester(\"c5FIVeAZuDMNrwBx\") as m:\n",
    "    materiaux = m.get_structure_by_material_id(\"mp-29868\")\n",
    "    w = CifWriter(materiaux)\n",
    "    w.write_file('mp29868.cif')\n",
    "    print(materiaux.lattice)\n",
    "    print(\"\")\n",
    "    hexag_maille = Lattice.hexagonal(3.868,5.245)\n",
    "    print(hexag_maille.reciprocal_lattice)\n",
    "    spg = SpacegroupAnalyzer(materiaux)\n",
    "    print(spg.get_lattice_type())\n",
    "    print(spg.get_crystal_system())\n",
    "    print(m.query(criteria=\"mp-29868\", properties=[\"spacegroup\"]))\n",
    "\n",
    "    "
   ]
  },
  {
   "cell_type": "code",
   "execution_count": null,
   "metadata": {},
   "outputs": [],
   "source": []
  },
  {
   "cell_type": "code",
   "execution_count": null,
   "metadata": {},
   "outputs": [],
   "source": []
  },
  {
   "cell_type": "code",
   "execution_count": null,
   "metadata": {},
   "outputs": [],
   "source": []
  },
  {
   "cell_type": "code",
   "execution_count": null,
   "metadata": {},
   "outputs": [],
   "source": []
  }
 ],
 "metadata": {
  "kernelspec": {
   "display_name": "Python 3",
   "language": "python",
   "name": "python3"
  },
  "language_info": {
   "codemirror_mode": {
    "name": "ipython",
    "version": 3
   },
   "file_extension": ".py",
   "mimetype": "text/x-python",
   "name": "python",
   "nbconvert_exporter": "python",
   "pygments_lexer": "ipython3",
   "version": "3.6.8"
  }
 },
 "nbformat": 4,
 "nbformat_minor": 2
}
